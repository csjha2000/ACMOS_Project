{
  "nbformat": 4,
  "nbformat_minor": 0,
  "metadata": {
    "colab": {
      "provenance": []
    },
    "kernelspec": {
      "name": "python3",
      "display_name": "Python 3"
    },
    "language_info": {
      "name": "python"
    }
  },
  "cells": [
    {
      "cell_type": "markdown",
      "source": [
        "\n",
        "## Generating Tech Plots from .csv file exported from Cadence"
      ],
      "metadata": {
        "id": "t6LWocLCxeYj"
      }
    },
    {
      "cell_type": "code",
      "source": [
        "import pandas as pd\n",
        "import matplotlib.pyplot as plt\n",
        "import seaborn as sns\n",
        "\n",
        "# Load the CSV file (update the file path as needed if you're uploading the file in Colab)\n",
        "file_path = '/content/drive/MyDrive/[03] Resources/ACMOS_Tech_Plots/NMOS/ft.csv'\n",
        "data = pd.read_csv(file_path)\n",
        "\n",
        "# Clean column names for better readability\n",
        "data.columns = [col.strip() for col in data.columns]\n",
        "\n",
        "# Define the lengths (starting from 45nm with 22.5nm increments)\n",
        "num_lengths = len(data.columns) // 2  # Each length has 2 columns (X and Y)\n",
        "lengths = [45 + i * 22.5 for i in range(num_lengths)]\n",
        "\n",
        "# Define a colorblind-friendly palette and line styles\n",
        "palette = sns.color_palette(\"colorblind\", n_colors=num_lengths)\n",
        "line_styles = ['-', '--', '-.', ':', '-', '--', '-.', ':', '-', '--', '-.']  # Repeated for variety\n",
        "\n",
        "# Initialize the plot\n",
        "plt.figure(figsize=(12, 6))\n",
        "\n",
        "# Plot each length curve\n",
        "for idx in range(num_lengths):\n",
        "    x_col = data.columns[2 * idx]  # X-axis column\n",
        "    y_col = data.columns[2 * idx + 1]  # Y-axis column\n",
        "    x_data = pd.to_numeric(data[x_col], errors='coerce')  # Convert X-axis to numeric\n",
        "    y_data = pd.to_numeric(data[y_col], errors='coerce')  # Convert Y-axis to numeric\n",
        "    plt.plot(\n",
        "        x_data, y_data,\n",
        "        label=f\"{lengths[idx]} nm\",\n",
        "        color=palette[idx],  # Color for distinction\n",
        "        linestyle=line_styles[idx % len(line_styles)],  # Unique line styles\n",
        "        linewidth=2  # Bold lines\n",
        "    )\n",
        "\n",
        "# Customize the plot\n",
        "plt.title(\"$f_t$ vs $g_m/I_d$ for Different Lengths\", fontsize=14, weight='bold')\n",
        "plt.xlabel(\"$g_m/I_d$\", fontsize=12, weight='bold')\n",
        "plt.ylabel(\"$f_t$\", fontsize=12, weight='bold')\n",
        "plt.grid(True, linestyle='--', alpha=0.6)\n",
        "plt.legend(title=\"Device Lengths\", fontsize=10, title_fontsize=12, loc=\"upper right\")\n",
        "plt.tight_layout()\n",
        "\n",
        "# Show the plot\n",
        "plt.show()"
      ],
      "metadata": {
        "id": "Xx1T_c62AH33"
      },
      "execution_count": null,
      "outputs": []
    }
  ]
}